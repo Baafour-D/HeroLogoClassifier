{
  "nbformat": 4,
  "nbformat_minor": 0,
  "metadata": {
    "colab": {
      "provenance": [],
      "authorship_tag": "ABX9TyOWAlRz9niiKUFbxQL/swwv",
      "include_colab_link": true
    },
    "kernelspec": {
      "name": "python3",
      "display_name": "Python 3"
    },
    "language_info": {
      "name": "python"
    }
  },
  "cells": [
    {
      "cell_type": "markdown",
      "metadata": {
        "id": "view-in-github",
        "colab_type": "text"
      },
      "source": [
        "<a href=\"https://colab.research.google.com/github/Baafour-D/HeroLogoClassifier/blob/main/herologo.ipynb\" target=\"_parent\"><img src=\"https://colab.research.google.com/assets/colab-badge.svg\" alt=\"Open In Colab\"/></a>"
      ]
    },
    {
      "cell_type": "code",
      "execution_count": 5,
      "metadata": {
        "colab": {
          "base_uri": "https://localhost:8080/"
        },
        "id": "HdKUU8vsg4rw",
        "outputId": "fbf71806-911f-43cb-d1c4-442c455bec55"
      },
      "outputs": [
        {
          "output_type": "stream",
          "name": "stdout",
          "text": [
            "Looking in indexes: https://pypi.org/simple, https://us-python.pkg.dev/colab-wheels/public/simple/\n",
            "Requirement already satisfied: tensorflow==2.2.0 in /usr/local/lib/python3.8/dist-packages (2.2.0)\n",
            "Requirement already satisfied: numpy<2.0,>=1.16.0 in /usr/local/lib/python3.8/dist-packages (from tensorflow==2.2.0) (1.21.6)\n",
            "Requirement already satisfied: astunparse==1.6.3 in /usr/local/lib/python3.8/dist-packages (from tensorflow==2.2.0) (1.6.3)\n",
            "Requirement already satisfied: protobuf>=3.8.0 in /usr/local/lib/python3.8/dist-packages (from tensorflow==2.2.0) (3.19.6)\n",
            "Requirement already satisfied: keras-preprocessing>=1.1.0 in /usr/local/lib/python3.8/dist-packages (from tensorflow==2.2.0) (1.1.2)\n",
            "Requirement already satisfied: tensorboard<2.3.0,>=2.2.0 in /usr/local/lib/python3.8/dist-packages (from tensorflow==2.2.0) (2.2.2)\n",
            "Requirement already satisfied: gast==0.3.3 in /usr/local/lib/python3.8/dist-packages (from tensorflow==2.2.0) (0.3.3)\n",
            "Requirement already satisfied: tensorflow-estimator<2.3.0,>=2.2.0 in /usr/local/lib/python3.8/dist-packages (from tensorflow==2.2.0) (2.2.0)\n",
            "Requirement already satisfied: opt-einsum>=2.3.2 in /usr/local/lib/python3.8/dist-packages (from tensorflow==2.2.0) (3.3.0)\n",
            "Requirement already satisfied: wrapt>=1.11.1 in /usr/local/lib/python3.8/dist-packages (from tensorflow==2.2.0) (1.14.1)\n",
            "Requirement already satisfied: grpcio>=1.8.6 in /usr/local/lib/python3.8/dist-packages (from tensorflow==2.2.0) (1.50.0)\n",
            "Requirement already satisfied: absl-py>=0.7.0 in /usr/local/lib/python3.8/dist-packages (from tensorflow==2.2.0) (1.3.0)\n",
            "Requirement already satisfied: wheel>=0.26 in /usr/local/lib/python3.8/dist-packages (from tensorflow==2.2.0) (0.38.4)\n",
            "Requirement already satisfied: h5py<2.11.0,>=2.10.0 in /usr/local/lib/python3.8/dist-packages (from tensorflow==2.2.0) (2.10.0)\n",
            "Requirement already satisfied: scipy==1.4.1 in /usr/local/lib/python3.8/dist-packages (from tensorflow==2.2.0) (1.4.1)\n",
            "Requirement already satisfied: six>=1.12.0 in /usr/local/lib/python3.8/dist-packages (from tensorflow==2.2.0) (1.15.0)\n",
            "Requirement already satisfied: termcolor>=1.1.0 in /usr/local/lib/python3.8/dist-packages (from tensorflow==2.2.0) (2.1.1)\n",
            "Requirement already satisfied: google-pasta>=0.1.8 in /usr/local/lib/python3.8/dist-packages (from tensorflow==2.2.0) (0.2.0)\n",
            "Requirement already satisfied: google-auth<2,>=1.6.3 in /usr/local/lib/python3.8/dist-packages (from tensorboard<2.3.0,>=2.2.0->tensorflow==2.2.0) (1.35.0)\n",
            "Requirement already satisfied: markdown>=2.6.8 in /usr/local/lib/python3.8/dist-packages (from tensorboard<2.3.0,>=2.2.0->tensorflow==2.2.0) (3.4.1)\n",
            "Requirement already satisfied: setuptools>=41.0.0 in /usr/local/lib/python3.8/dist-packages (from tensorboard<2.3.0,>=2.2.0->tensorflow==2.2.0) (57.4.0)\n",
            "Requirement already satisfied: werkzeug>=0.11.15 in /usr/local/lib/python3.8/dist-packages (from tensorboard<2.3.0,>=2.2.0->tensorflow==2.2.0) (1.0.1)\n",
            "Requirement already satisfied: tensorboard-plugin-wit>=1.6.0 in /usr/local/lib/python3.8/dist-packages (from tensorboard<2.3.0,>=2.2.0->tensorflow==2.2.0) (1.8.1)\n",
            "Requirement already satisfied: google-auth-oauthlib<0.5,>=0.4.1 in /usr/local/lib/python3.8/dist-packages (from tensorboard<2.3.0,>=2.2.0->tensorflow==2.2.0) (0.4.6)\n",
            "Requirement already satisfied: requests<3,>=2.21.0 in /usr/local/lib/python3.8/dist-packages (from tensorboard<2.3.0,>=2.2.0->tensorflow==2.2.0) (2.23.0)\n",
            "Requirement already satisfied: cachetools<5.0,>=2.0.0 in /usr/local/lib/python3.8/dist-packages (from google-auth<2,>=1.6.3->tensorboard<2.3.0,>=2.2.0->tensorflow==2.2.0) (4.2.4)\n",
            "Requirement already satisfied: rsa<5,>=3.1.4 in /usr/local/lib/python3.8/dist-packages (from google-auth<2,>=1.6.3->tensorboard<2.3.0,>=2.2.0->tensorflow==2.2.0) (4.9)\n",
            "Requirement already satisfied: pyasn1-modules>=0.2.1 in /usr/local/lib/python3.8/dist-packages (from google-auth<2,>=1.6.3->tensorboard<2.3.0,>=2.2.0->tensorflow==2.2.0) (0.2.8)\n",
            "Requirement already satisfied: requests-oauthlib>=0.7.0 in /usr/local/lib/python3.8/dist-packages (from google-auth-oauthlib<0.5,>=0.4.1->tensorboard<2.3.0,>=2.2.0->tensorflow==2.2.0) (1.3.1)\n",
            "Requirement already satisfied: importlib-metadata>=4.4 in /usr/local/lib/python3.8/dist-packages (from markdown>=2.6.8->tensorboard<2.3.0,>=2.2.0->tensorflow==2.2.0) (4.13.0)\n",
            "Requirement already satisfied: zipp>=0.5 in /usr/local/lib/python3.8/dist-packages (from importlib-metadata>=4.4->markdown>=2.6.8->tensorboard<2.3.0,>=2.2.0->tensorflow==2.2.0) (3.10.0)\n",
            "Requirement already satisfied: pyasn1<0.5.0,>=0.4.6 in /usr/local/lib/python3.8/dist-packages (from pyasn1-modules>=0.2.1->google-auth<2,>=1.6.3->tensorboard<2.3.0,>=2.2.0->tensorflow==2.2.0) (0.4.8)\n",
            "Requirement already satisfied: urllib3!=1.25.0,!=1.25.1,<1.26,>=1.21.1 in /usr/local/lib/python3.8/dist-packages (from requests<3,>=2.21.0->tensorboard<2.3.0,>=2.2.0->tensorflow==2.2.0) (1.24.3)\n",
            "Requirement already satisfied: certifi>=2017.4.17 in /usr/local/lib/python3.8/dist-packages (from requests<3,>=2.21.0->tensorboard<2.3.0,>=2.2.0->tensorflow==2.2.0) (2022.9.24)\n",
            "Requirement already satisfied: idna<3,>=2.5 in /usr/local/lib/python3.8/dist-packages (from requests<3,>=2.21.0->tensorboard<2.3.0,>=2.2.0->tensorflow==2.2.0) (2.10)\n",
            "Requirement already satisfied: chardet<4,>=3.0.2 in /usr/local/lib/python3.8/dist-packages (from requests<3,>=2.21.0->tensorboard<2.3.0,>=2.2.0->tensorflow==2.2.0) (3.0.4)\n",
            "Requirement already satisfied: oauthlib>=3.0.0 in /usr/local/lib/python3.8/dist-packages (from requests-oauthlib>=0.7.0->google-auth-oauthlib<0.5,>=0.4.1->tensorboard<2.3.0,>=2.2.0->tensorflow==2.2.0) (3.2.2)\n"
          ]
        }
      ],
      "source": [
        "!pip install tensorflow==2.2.0"
      ]
    },
    {
      "cell_type": "code",
      "source": [
        "import cv2\n",
        "import os\n",
        "import numpy as np\n",
        "import tensorflow as tf\n",
        "import matplotlib.pyplot as plt\n",
        "from sklearn.utils import shuffle\n",
        "from tensorflow.keras import layers, models\n",
        "from google.colab import drive\n",
        "drive.mount('/content/drive')\n"
      ],
      "metadata": {
        "colab": {
          "base_uri": "https://localhost:8080/"
        },
        "id": "kkuDXjcGkej5",
        "outputId": "a1e3daff-a5d4-415b-c3b4-7a5b0f33192a"
      },
      "execution_count": 36,
      "outputs": [
        {
          "output_type": "stream",
          "name": "stdout",
          "text": [
            "Drive already mounted at /content/drive; to attempt to forcibly remount, call drive.mount(\"/content/drive\", force_remount=True).\n"
          ]
        }
      ]
    },
    {
      "cell_type": "code",
      "source": [
        "tf.__version__"
      ],
      "metadata": {
        "colab": {
          "base_uri": "https://localhost:8080/",
          "height": 35
        },
        "id": "EqLu7AtWklIA",
        "outputId": "18ceb1ce-19d1-4867-8f33-70422b561650"
      },
      "execution_count": 7,
      "outputs": [
        {
          "output_type": "execute_result",
          "data": {
            "text/plain": [
              "'2.2.0'"
            ],
            "application/vnd.google.colaboratory.intrinsic+json": {
              "type": "string"
            }
          },
          "metadata": {},
          "execution_count": 7
        }
      ]
    },
    {
      "cell_type": "code",
      "source": [
        "def loadTrain(trainPath, classes, imageSize):\n",
        "    images = []\n",
        "    cls = []\n",
        "    labels = []\n",
        "    imageNames = []\n",
        "\n",
        "    print(\"Reading Training Data\")\n",
        "    print(\"Path : \", trainPath)\n",
        "    print(\"classes : \", classes)\n",
        "    print(\"Image Size : \", imageSize)\n",
        "\n",
        "    for field in classes:\n",
        "\n",
        "        index = classes.index(field)\n",
        "        print(\"Index : \", index, \" Class : \", classes[index])\n",
        "        # index will act as label\n",
        "        # now build path to particular class\n",
        "        path = os.path.join(trainPath, field)\n",
        "        # now list all images in this folder\n",
        "        print(\"For class and path --> \", path)\n",
        "        for image in os.listdir(path):\n",
        "            cv_img = cv2.imread(os.path.join(path, image))\n",
        "            # resize\n",
        "            cv_img = cv2.resize(cv_img, (imageSize, imageSize))\n",
        "            cv_img = cv_img.astype(np.float64)\n",
        "            # normalize\n",
        "            cv_img = np.multiply(cv_img, 1.0 / 255.0)\n",
        "            images.append(cv_img)  # add to image list\n",
        "            # add label to image\n",
        "            label = index#np.zeros(len(classes))\n",
        "            #label[index] = 1.0  # one hot vector encoding\n",
        "            labels.append(label)  # label added to list\n",
        "            imbase = os.path.basename(image)  # base folder\n",
        "            imageNames.append(imbase)\n",
        "            cls.append(field)\n",
        "    # make all list numpy arrays\n",
        "    images = np.array(images)\n",
        "    labels = np.array(labels)\n",
        "    imageNames = np.array(imageNames)\n",
        "    cls = np.array(cls)\n",
        "\n",
        "    return images, labels, imageNames, cls\n",
        "\n",
        "\n",
        "class DataSet(object):\n",
        "\n",
        "    def __init__(self, images, labels, imageNames, cls):\n",
        "        self._num_examples = images.shape[0]\n",
        "\n",
        "        self._images = images\n",
        "        self._labels = labels\n",
        "        self._imageNames = imageNames\n",
        "        self._cls = cls\n",
        "        self._epochs_done = 0\n",
        "        self._index_in_epoch = 0\n",
        "\n",
        "    @property\n",
        "    def images(self):\n",
        "        return self._images\n",
        "\n",
        "    @property\n",
        "    def labels(self):\n",
        "        return self._labels\n",
        "\n",
        "    @property\n",
        "    def img_names(self):\n",
        "        return self._imageNames\n",
        "\n",
        "    @property\n",
        "    def cls(self):\n",
        "        return self._cls\n",
        "\n",
        "    @property\n",
        "    def num_examples(self):\n",
        "        return self._num_examples\n",
        "\n",
        "    @property\n",
        "    def epochs_done(self):\n",
        "        return self._epochs_done\n",
        "\n",
        "    def getData(self):\n",
        "        return self._images, self._labels, self._imageNames, self._cls\n",
        "\n",
        "    def next_batch(self, batch_size):\n",
        "        start = self._index_in_epoch\n",
        "        self._index_in_epoch += batch_size\n",
        "\n",
        "        if self._index_in_epoch > self._num_examples:\n",
        "            self._epochs_done += 1\n",
        "            start = 0\n",
        "            self._index_in_epoch = batch_size\n",
        "            assert batch_size <= self._num_examples\n",
        "        end = self._index_in_epoch\n",
        "\n",
        "        return self._images[start:end], self._labels[start:end], self._imageNames[start:end], self._cls[start:end]\n",
        "\n",
        "\n",
        "def readData(trainPath, classes, imageSize, validationSize):\n",
        "    class DataSets(object):\n",
        "        pass\n",
        "\n",
        "    data_sets = DataSets()\n",
        "\n",
        "    images, labels, imageNames, cls = loadTrain(trainPath, classes, imageSize)\n",
        "    images, labels, imageNames, cls = shuffle(images, labels, imageNames, cls)\n",
        "    if isinstance(validationSize, float):\n",
        "        validationSize = int(validationSize * images.shape[0])\n",
        "\n",
        "    validationImages = images[:validationSize]\n",
        "    validationLabels = labels[:validationSize]\n",
        "    validationImageNames = imageNames[:validationSize]\n",
        "    validationCls = cls[:validationSize]\n",
        "\n",
        "    trainImages = images[validationSize:]\n",
        "    trainLabels = labels[validationSize:]\n",
        "    trainImgNames = imageNames[validationSize:]\n",
        "    trainCls = cls[validationSize:]\n",
        "\n",
        "    data_sets.train = DataSet(trainImages, trainLabels, trainImgNames, trainCls)\n",
        "    data_sets.valid = DataSet(validationImages, validationLabels, validationImageNames, validationCls)\n",
        "\n",
        "    return data_sets"
      ],
      "metadata": {
        "id": "V2mnIsZBkriE"
      },
      "execution_count": 9,
      "outputs": []
    },
    {
      "cell_type": "code",
      "source": [
        "validationSize = 0.2\n",
        "imageSize = 128\n",
        "numChannels = 3\n",
        "dataPath = \"/content/drive/My Drive/AIproject/data\"\n",
        "classes = os.listdir(dataPath)\n",
        "numClasses = len(classes)\n",
        "print(\"Number of classes are : \", classes)\n",
        "print(\"Training data Path : \",dataPath)"
      ],
      "metadata": {
        "colab": {
          "base_uri": "https://localhost:8080/"
        },
        "id": "lbfW5g0Yk1KD",
        "outputId": "820fd52e-8190-4834-f681-c58bfe844547"
      },
      "execution_count": 10,
      "outputs": [
        {
          "output_type": "stream",
          "name": "stdout",
          "text": [
            "Number of classes are :  ['batman', 'flash', 'superman', 'wonderwoman']\n",
            "Training data Path :  /content/drive/My Drive/AIproject/data\n"
          ]
        }
      ]
    },
    {
      "cell_type": "code",
      "source": [
        "data = readData(dataPath,classes,imageSize,validationSize)\n",
        "\n",
        "X_train,y_train,names_train,cls_train = data.train.getData()\n",
        "X_test,y_test,names_test,cls_test = data.valid.getData()\n",
        "\n",
        "print(\"Training data X : \" , X_train.shape)\n",
        "print(\"Training data y : \" , y_train.shape)\n",
        "print(\"Testing data X : \",X_test.shape)\n",
        "print(\"Testing data y : \",y_test.shape)"
      ],
      "metadata": {
        "colab": {
          "base_uri": "https://localhost:8080/"
        },
        "id": "4e0YzQqQk9Uz",
        "outputId": "f0b372ae-bcdc-4d3f-f16b-30e67469a4e2"
      },
      "execution_count": 11,
      "outputs": [
        {
          "output_type": "stream",
          "name": "stdout",
          "text": [
            "Reading Training Data\n",
            "Path :  /content/drive/My Drive/AIproject/data\n",
            "classes :  ['batman', 'flash', 'superman', 'wonderwoman']\n",
            "Image Size :  128\n",
            "Index :  0  Class :  batman\n",
            "For class and path -->  /content/drive/My Drive/AIproject/data/batman\n",
            "Index :  1  Class :  flash\n",
            "For class and path -->  /content/drive/My Drive/AIproject/data/flash\n",
            "Index :  2  Class :  superman\n",
            "For class and path -->  /content/drive/My Drive/AIproject/data/superman\n",
            "Index :  3  Class :  wonderwoman\n",
            "For class and path -->  /content/drive/My Drive/AIproject/data/wonderwoman\n",
            "Training data X :  (32, 128, 128, 3)\n",
            "Training data y :  (32,)\n",
            "Testing data X :  (8, 128, 128, 3)\n",
            "Testing data y :  (8,)\n"
          ]
        }
      ]
    },
    {
      "cell_type": "code",
      "source": [
        "X_train[31].shape"
      ],
      "metadata": {
        "colab": {
          "base_uri": "https://localhost:8080/"
        },
        "id": "vfbDf-G3lFEv",
        "outputId": "0fc40ca7-42c8-4854-adef-a4f912cc3b76"
      },
      "execution_count": 14,
      "outputs": [
        {
          "output_type": "execute_result",
          "data": {
            "text/plain": [
              "(128, 128, 3)"
            ]
          },
          "metadata": {},
          "execution_count": 14
        }
      ]
    },
    {
      "cell_type": "code",
      "source": [
        "plt.imshow(X_train[31])"
      ],
      "metadata": {
        "colab": {
          "base_uri": "https://localhost:8080/",
          "height": 285
        },
        "id": "nmkGraiDlNbI",
        "outputId": "351863b4-8b58-4179-da3d-fc9f5ce9b199"
      },
      "execution_count": 21,
      "outputs": [
        {
          "output_type": "execute_result",
          "data": {
            "text/plain": [
              "<matplotlib.image.AxesImage at 0x7fea5c600340>"
            ]
          },
          "metadata": {},
          "execution_count": 21
        },
        {
          "output_type": "display_data",
          "data": {
            "text/plain": [
              "<Figure size 432x288 with 1 Axes>"
            ],
            "image/png": "[encoded data removed]"
          },
          "metadata": {
            "needs_background": "light"
          }
        }
      ]
    },
    {
      "cell_type": "code",
      "source": [
        "classes[y_train[1]]"
      ],
      "metadata": {
        "colab": {
          "base_uri": "https://localhost:8080/",
          "height": 35
        },
        "id": "e2v4n6VHlXDy",
        "outputId": "5b7b448e-0239-4606-b228-85f5aad31481"
      },
      "execution_count": 22,
      "outputs": [
        {
          "output_type": "execute_result",
          "data": {
            "text/plain": [
              "'flash'"
            ],
            "application/vnd.google.colaboratory.intrinsic+json": {
              "type": "string"
            }
          },
          "metadata": {},
          "execution_count": 22
        }
      ]
    },
    {
      "cell_type": "code",
      "source": [
        "print(X_train.shape)\n",
        "print(X_test.shape)"
      ],
      "metadata": {
        "colab": {
          "base_uri": "https://localhost:8080/"
        },
        "id": "piJZYVEXlf9H",
        "outputId": "88b2a624-d354-41aa-8808-b070988736d4"
      },
      "execution_count": 23,
      "outputs": [
        {
          "output_type": "stream",
          "name": "stdout",
          "text": [
            "(32, 128, 128, 3)\n",
            "(8, 128, 128, 3)\n"
          ]
        }
      ]
    },
    {
      "cell_type": "code",
      "source": [
        "print(y_train.shape)\n",
        "print(y_test.shape)\n"
      ],
      "metadata": {
        "colab": {
          "base_uri": "https://localhost:8080/"
        },
        "id": "3mx6vcbCliV6",
        "outputId": "2d60083a-60ea-4f47-de54-97045f03870a"
      },
      "execution_count": 24,
      "outputs": [
        {
          "output_type": "stream",
          "name": "stdout",
          "text": [
            "(32,)\n",
            "(8,)\n"
          ]
        }
      ]
    },
    {
      "cell_type": "code",
      "source": [
        "type(X_test[0][0][0][0])"
      ],
      "metadata": {
        "colab": {
          "base_uri": "https://localhost:8080/"
        },
        "id": "jEnSvOoNlk9z",
        "outputId": "958afeb5-f54d-4371-9fc6-563966cea384"
      },
      "execution_count": 25,
      "outputs": [
        {
          "output_type": "execute_result",
          "data": {
            "text/plain": [
              "numpy.float64"
            ]
          },
          "metadata": {},
          "execution_count": 25
        }
      ]
    },
    {
      "cell_type": "code",
      "source": [
        "model = models.Sequential()\n",
        "model.add(layers.Conv2D(32, (3, 3), activation='relu', input_shape=(128, 128, 3)))\n",
        "model.add(layers.MaxPooling2D((2, 2)))\n",
        "model.add(layers.Conv2D(64, (3, 3), activation='relu'))\n",
        "model.add(layers.MaxPooling2D((2, 2)))\n",
        "model.add(layers.Conv2D(64, (3, 3), activation='relu'))\n",
        "model.add(layers.Flatten())\n",
        "model.add(layers.Dense(64, activation='relu'))\n",
        "model.add(layers.Dense(5, activation='softmax'))"
      ],
      "metadata": {
        "id": "M0PA7C5kloMl"
      },
      "execution_count": 26,
      "outputs": []
    },
    {
      "cell_type": "code",
      "source": [
        "model.summary()"
      ],
      "metadata": {
        "colab": {
          "base_uri": "https://localhost:8080/"
        },
        "id": "YE7HobYFlp5O",
        "outputId": "39229f4c-5f02-40ee-8fc5-f214ef419f34"
      },
      "execution_count": 27,
      "outputs": [
        {
          "output_type": "stream",
          "name": "stdout",
          "text": [
            "Model: \"sequential\"\n",
            "_________________________________________________________________\n",
            "Layer (type)                 Output Shape              Param #   \n",
            "=================================================================\n",
            "conv2d (Conv2D)              (None, 126, 126, 32)      896       \n",
            "_________________________________________________________________\n",
            "max_pooling2d (MaxPooling2D) (None, 63, 63, 32)        0         \n",
            "_________________________________________________________________\n",
            "conv2d_1 (Conv2D)            (None, 61, 61, 64)        18496     \n",
            "_________________________________________________________________\n",
            "max_pooling2d_1 (MaxPooling2 (None, 30, 30, 64)        0         \n",
            "_________________________________________________________________\n",
            "conv2d_2 (Conv2D)            (None, 28, 28, 64)        36928     \n",
            "_________________________________________________________________\n",
            "flatten (Flatten)            (None, 50176)             0         \n",
            "_________________________________________________________________\n",
            "dense (Dense)                (None, 64)                3211328   \n",
            "_________________________________________________________________\n",
            "dense_1 (Dense)              (None, 5)                 325       \n",
            "=================================================================\n",
            "Total params: 3,267,973\n",
            "Trainable params: 3,267,973\n",
            "Non-trainable params: 0\n",
            "_________________________________________________________________\n"
          ]
        }
      ]
    },
    {
      "cell_type": "code",
      "source": [
        "model.compile(optimizer='adam',\n",
        "              loss='sparse_categorical_crossentropy',\n",
        "              metrics=['accuracy'])"
      ],
      "metadata": {
        "id": "s_7A9sV5lu9P"
      },
      "execution_count": 28,
      "outputs": []
    },
    {
      "cell_type": "code",
      "source": [
        "history = model.fit(X_train,y_train, epochs=4, \n",
        "                    validation_data=(X_test,y_test))"
      ],
      "metadata": {
        "colab": {
          "base_uri": "https://localhost:8080/"
        },
        "id": "dReTI127lw-u",
        "outputId": "685230e2-968a-4edb-c3e2-0c2a6fb5b1e3"
      },
      "execution_count": 29,
      "outputs": [
        {
          "output_type": "stream",
          "name": "stdout",
          "text": [
            "Epoch 1/4\n",
            "1/1 [==============================] - 0s 295ms/step - loss: 1.6170 - accuracy: 0.2188 - val_loss: 2.1429 - val_accuracy: 0.2500\n",
            "Epoch 2/4\n",
            "1/1 [==============================] - 0s 100ms/step - loss: 1.4579 - accuracy: 0.4375 - val_loss: 1.3890 - val_accuracy: 0.2500\n",
            "Epoch 3/4\n",
            "1/1 [==============================] - 0s 94ms/step - loss: 1.3187 - accuracy: 0.3750 - val_loss: 1.5462 - val_accuracy: 0.2500\n",
            "Epoch 4/4\n",
            "1/1 [==============================] - 0s 104ms/step - loss: 0.9230 - accuracy: 0.6875 - val_loss: 1.4037 - val_accuracy: 0.3750\n"
          ]
        }
      ]
    },
    {
      "cell_type": "code",
      "source": [
        "plt.plot(history.history['accuracy'], label='accuracy')\n",
        "plt.plot(history.history['val_accuracy'], label = 'val_accuracy')\n",
        "plt.xlabel('Epoch')\n",
        "plt.ylabel('Accuracy')\n",
        "plt.ylim([0.5, 1])\n",
        "plt.legend(loc='lower right')\n",
        "\n",
        "test_loss, test_acc = model.evaluate(X_test,  y_test, verbose=2)\n",
        "print(\"Accuracy : {}\".format(test_acc*100))"
      ],
      "metadata": {
        "colab": {
          "base_uri": "https://localhost:8080/",
          "height": 318
        },
        "id": "7SovyYZpl2IX",
        "outputId": "a3a741b1-6704-4d72-ffd4-b9919ccda885"
      },
      "execution_count": 30,
      "outputs": [
        {
          "output_type": "stream",
          "name": "stdout",
          "text": [
            "1/1 - 0s - loss: 1.4037 - accuracy: 0.3750\n",
            "Accuracy : 37.5\n"
          ]
        },
        {
          "output_type": "display_data",
          "data": {
            "text/plain": [
              "<Figure size 432x288 with 1 Axes>"
            ],
            "image/png": "[encoded data removed]"
          },
          "metadata": {
            "needs_background": "light"
          }
        }
      ]
    },
    {
      "cell_type": "code",
      "source": [
        "model.save(\"comic.h5\")"
      ],
      "metadata": {
        "id": "lnYm5LLKl6Bv"
      },
      "execution_count": 31,
      "outputs": []
    },
    {
      "cell_type": "code",
      "source": [
        "!pip install -U -q PyDrive\n",
        "from pydrive.auth import GoogleAuth\n",
        "from pydrive.drive import GoogleDrive \n",
        "from google.colab import auth \n",
        "from oauth2client.client import GoogleCredentials\n",
        "\n",
        "auth.authenticate_user()\n",
        "gauth = GoogleAuth()\n",
        "gauth.credentials = GoogleCredentials.get_application_default()                       \n",
        "drive = GoogleDrive(gauth)"
      ],
      "metadata": {
        "id": "JxQK9sHnl_kG"
      },
      "execution_count": 32,
      "outputs": []
    },
    {
      "cell_type": "code",
      "source": [
        "model_file = drive.CreateFile({'title' : 'comic.h5'})                       \n",
        "model_file.SetContentFile('comic.h5')                       \n",
        "model_file.Upload()\n",
        "drive.CreateFile({'id': model_file.get('id')})\n"
      ],
      "metadata": {
        "colab": {
          "base_uri": "https://localhost:8080/"
        },
        "id": "BXs4jB2amB5M",
        "outputId": "037bd5f0-4fb2-4d28-9ef2-6a90e518118c"
      },
      "execution_count": 33,
      "outputs": [
        {
          "output_type": "execute_result",
          "data": {
            "text/plain": [
              "GoogleDriveFile({'id': '1XJBAqgxpfc_muniQFhnvpSHPgnp2lTtA'})"
            ]
          },
          "metadata": {},
          "execution_count": 33
        }
      ]
    },
    {
      "cell_type": "code",
      "source": [
        "!ls -1"
      ],
      "metadata": {
        "colab": {
          "base_uri": "https://localhost:8080/"
        },
        "id": "VpiRL4r9mkBa",
        "outputId": "adc28e71-a15f-432a-ab51-3f0d8d84e712"
      },
      "execution_count": 37,
      "outputs": [
        {
          "output_type": "stream",
          "name": "stdout",
          "text": [
            "comic.h5\n",
            "drive\n",
            "sample_data\n"
          ]
        }
      ]
    }
  ]
}